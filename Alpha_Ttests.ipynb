{
 "cells": [
  {
   "cell_type": "code",
   "execution_count": 2,
   "metadata": {},
   "outputs": [],
   "source": [
    "import numpy as np\n",
    "import pandas as pd\n",
    "\n",
    "import tkinter as tk\n",
    "import matplotlib\n",
    "import matplotlib.pyplot as plt\n",
    "matplotlib.use('TkAgg')\n",
    "from matplotlib.figure import Figure\n",
    "from matplotlib.backends.backend_tkagg import (FigureCanvasTkAgg, NavigationToolbar2Tk)\n",
    "\n",
    "import os\n",
    "\n",
    "import mne\n",
    "from mne import io\n",
    "from mne.preprocessing import (ICA, create_eog_epochs, create_ecg_epochs, corrmap)\n",
    "from mne.datasets import sample\n",
    "from mne.stats import permutation_t_test\n",
    "import scipy.stats as stats\n",
    "from scipy.stats import shapiro\n",
    "\n",
    "import sklearn.preprocessing as preprocessing\n"
   ]
  },
  {
   "cell_type": "code",
   "execution_count": 3,
   "metadata": {},
   "outputs": [
    {
     "name": "stderr",
     "output_type": "stream",
     "text": [
      "/var/folders/6c/fjzqbqp560v1pjkm83x96tww0000gn/T/ipykernel_22521/2766569600.py:22: DtypeWarning: Columns (39) have mixed types. Specify dtype option on import or set low_memory=False.\n",
      "  data = pd.read_csv(i, delimiter = ',')\n",
      "/var/folders/6c/fjzqbqp560v1pjkm83x96tww0000gn/T/ipykernel_22521/2766569600.py:22: DtypeWarning: Columns (39) have mixed types. Specify dtype option on import or set low_memory=False.\n",
      "  data = pd.read_csv(i, delimiter = ',')\n",
      "/var/folders/6c/fjzqbqp560v1pjkm83x96tww0000gn/T/ipykernel_22521/2766569600.py:22: DtypeWarning: Columns (39) have mixed types. Specify dtype option on import or set low_memory=False.\n",
      "  data = pd.read_csv(i, delimiter = ',')\n"
     ]
    }
   ],
   "source": [
    "Sub1Alpha = dict()\n",
    "Sub2Alpha = dict()\n",
    "Sub3Alpha = dict()\n",
    "# read csv\n",
    "\n",
    "for i in os.listdir('/Users/danielbarrowsmacbook/Desktop/Lab Reports/Final Project/Original Data/'):\n",
    "    if i.startswith('Sub1'):\n",
    "        data = pd.read_csv(i, delimiter = ',')\n",
    "        df = pd.DataFrame(data)\n",
    "        Alpha_subset = df.iloc[:, 9:13]\n",
    "        Alpha_subset.dropna(inplace=True)\n",
    "        Alpha_subsetT = Alpha_subset.transpose()\n",
    "        Sub1Alpha[i] = Alpha_subsetT\n",
    "    if i.startswith('Sub2'):\n",
    "        data = pd.read_csv(i, delimiter = ',')\n",
    "        df = pd.DataFrame(data)\n",
    "        Alpha_subset = df.iloc[:, 9:13]\n",
    "        Alpha_subset.dropna(inplace=True)\n",
    "        Alpha_subsetT = Alpha_subset.transpose()\n",
    "        Sub2Alpha[i] = Alpha_subsetT\n",
    "    if i.startswith('Sub3'):\n",
    "        data = pd.read_csv(i, delimiter = ',')\n",
    "        df = pd.DataFrame(data)\n",
    "        Alpha_subset = df.iloc[:, 9:13]\n",
    "        Alpha_subset.dropna(inplace=True)\n",
    "        Alpha_subsetT = Alpha_subset.transpose()\n",
    "        Sub3Alpha[i] = Alpha_subsetT\n"
   ]
  },
  {
   "cell_type": "code",
   "execution_count": 4,
   "metadata": {},
   "outputs": [],
   "source": [
    "#Combine all electrodes into single columns\n",
    "\n",
    "Sub1_Pod = Sub1Alpha['Sub1_Podcast_2022-11-22--16-27-28.csv'].stack().dropna().drop_duplicates().reset_index(drop=True)\n",
    "Sub1_Pun = Sub1Alpha['Sub1_Punishment_2022-11-22--16-44-55.csv'].stack().dropna().drop_duplicates().reset_index(drop=True)\n",
    "Sub1_Rew = Sub1Alpha['Sub1_Reward_2022-11-22--16-37-19.csv'].stack().dropna().drop_duplicates().reset_index(drop=True)\n",
    "\n",
    "Sub2_Pod = Sub2Alpha['Sub2_podcast_2022-11-22--14-39-43.csv'].stack().dropna().drop_duplicates().reset_index(drop=True)\n",
    "Sub2_Pun = Sub2Alpha['Sub2_Punishment_1_2022-11-22--15-28-45.csv'].stack().dropna().drop_duplicates().reset_index(drop=True)\n",
    "Sub2_Rew = Sub2Alpha['Sub2_Reward_2_2022-11-22--15-13-10.csv'].stack().dropna().drop_duplicates().reset_index(drop=True)\n",
    "\n",
    "Sub3_Pod = Sub3Alpha['Sub3_Podcast_2022-11-22--15-45-16.csv'].stack().dropna().drop_duplicates().reset_index(drop=True)\n",
    "Sub3_Pun = Sub3Alpha['Sub3_Punishment_2022-11-22--16-07-48.csv'].stack().dropna().drop_duplicates().reset_index(drop=True)\n",
    "Sub3_Rew = Sub3Alpha['Sub3_Reward_2022-11-22--15-55-57.csv'].stack().dropna().drop_duplicates().reset_index(drop=True)\n"
   ]
  },
  {
   "cell_type": "code",
   "execution_count": 20,
   "metadata": {},
   "outputs": [
    {
     "name": "stderr",
     "output_type": "stream",
     "text": [
      "2022-12-01 01:16:25.473 python[22521:10305792] +[CATransaction synchronize] called within transaction\n",
      "2022-12-01 01:16:25.533 python[22521:10305792] +[CATransaction synchronize] called within transaction\n"
     ]
    }
   ],
   "source": [
    "# make a boxplot with matplotlib\n",
    "fig, ax = plt.subplots()\n",
    "ax.boxplot([Sub3_Pod, Sub3_Pun, Sub3_Rew,])\n",
    "ax.set_xticklabels(['Sub3_Pod', 'Sub3_Pun', 'Sub3_Rew'])\n",
    "ax.set_title('Alpha Relative Power')\n",
    "fig.tight_layout()\n",
    "plt.show()"
   ]
  },
  {
   "cell_type": "code",
   "execution_count": 5,
   "metadata": {},
   "outputs": [],
   "source": [
    "#normalize data\n",
    "\n",
    "Sub1_Pod_norm = preprocessing.scale(Sub1_Pod)\n",
    "Sub1_Pun_norm = preprocessing.scale(Sub1_Pun)\n",
    "Sub1_Rew_norm = preprocessing.scale(Sub1_Rew)\n",
    "\n",
    "Sub2_Pod_norm = preprocessing.scale(Sub2_Pod)\n",
    "Sub2_Pun_norm = preprocessing.scale(Sub2_Pun)\n",
    "Sub2_Rew_norm = preprocessing.scale(Sub2_Rew)\n",
    "\n",
    "Sub3_Pod_norm = preprocessing.scale(Sub3_Pod)\n",
    "Sub3_Pun_norm = preprocessing.scale(Sub3_Pun)\n",
    "Sub3_Rew_norm = preprocessing.scale(Sub3_Rew)"
   ]
  },
  {
   "cell_type": "code",
   "execution_count": 6,
   "metadata": {},
   "outputs": [],
   "source": [
    "Sub1_Pod_norm_cut = Sub1_Pod_norm[0:5000]\n",
    "Sub1_Pun_norm_cut = Sub1_Pun_norm[0:5000]\n",
    "Sub1_Rew_norm_cut = Sub1_Rew_norm[0:5000]\n",
    "\n",
    "Sub2_Pod_norm_cut= Sub2_Pod_norm[0:5000]\n",
    "Sub2_Pun_norm_cut= Sub2_Pun_norm[0:5000]\n",
    "Sub2_Rew_norm_cut = Sub2_Rew_norm[0:5000]\n",
    "\n",
    "Sub3_Pod_norm_cut = Sub3_Pod_norm[0:5000]\n",
    "Sub3_Pun_norm_cut = Sub3_Pun_norm[0:5000]\n",
    "Sub3_Rew_norm_cut= Sub3_Rew_norm[0:5000]"
   ]
  },
  {
   "cell_type": "code",
   "execution_count": 33,
   "metadata": {},
   "outputs": [],
   "source": [
    "Sub1_Podcast_vs_Punishment = stats.ttest_rel(Sub1_Pod_norm_cut, Sub1_Pun_norm_cut)\n",
    "Sub1_Podcast_vs_Reward = stats.ttest_rel(Sub1_Pod_norm_cut, Sub1_Rew_norm_cut)\n",
    "Sub1_Punishment_vs_Reward = stats.ttest_rel(Sub1_Pun_norm_cut, Sub1_Rew_norm_cut)\n",
    "\n",
    "Sub2_Podcast_vs_Punishment = stats.ttest_rel(Sub2_Pod_norm_cut, Sub2_Pun_norm_cut)\n",
    "Sub2_Podcast_vs_Reward = stats.ttest_rel(Sub2_Pod_norm_cut, Sub2_Rew_norm_cut)\n",
    "Sub2_Punishment_vs_Reward = stats.ttest_rel(Sub2_Pun_norm_cut, Sub2_Rew_norm_cut)\n",
    "\n",
    "Sub3_Podcast_vs_Punishment = stats.ttest_rel(Sub3_Pod_norm_cut, Sub3_Pun_norm_cut)\n",
    "Sub3_Podcast_vs_Reward = stats.ttest_rel(Sub3_Pod_norm_cut, Sub3_Rew_norm_cut)\n",
    "Sub3_Punishment_vs_Reward = stats.ttest_rel(Sub3_Pun_norm_cut, Sub3_Rew_norm_cut)\n"
   ]
  },
  {
   "cell_type": "code",
   "execution_count": 35,
   "metadata": {},
   "outputs": [
    {
     "name": "stdout",
     "output_type": "stream",
     "text": [
      "Sub 1 Podcast vs. Punishment:  Ttest_relResult(statistic=-0.49711047472927716, pvalue=0.6191330100608801) \n",
      " Sub 1 Podcast vs. Reward:  Ttest_relResult(statistic=-2.7747903421597147, pvalue=0.00554425066893719) \n",
      " Sub1_Punishment vs. Reward:  Ttest_relResult(statistic=-2.3245380801916364, pvalue=0.020136532798076874)\n",
      "Sub 2 Podcast vs. Punishment:  Ttest_relResult(statistic=5.007148453152902, pvalue=5.714109899815022e-07) \n",
      " Sub 2 Podcast vs. Reward:  Ttest_relResult(statistic=3.760139276825902, pvalue=0.00017175874850353215) \n",
      " Sub2_Punishment vs. Reward:  Ttest_relResult(statistic=-1.3085483317924997, pvalue=0.1907475488358115)\n",
      "Sub 3 Podcast vs. Punishment:  Ttest_relResult(statistic=-9.452530944288544, pvalue=4.9506512872498214e-21) \n",
      " Sub 3 Podcast vs. Reward:  Ttest_relResult(statistic=-5.762182642806697, pvalue=8.800538167670007e-09) \n",
      " Sub3_Punishment vs. Reward:  Ttest_relResult(statistic=4.942630233149852, pvalue=7.959377459999321e-07)\n"
     ]
    }
   ],
   "source": [
    "print(\"Sub 1 Podcast vs. Punishment: \", Sub1_Podcast_vs_Punishment,\n",
    "'\\n',\"Sub 1 Podcast vs. Reward: \",Sub1_Podcast_vs_Reward,'\\n',\n",
    "\"Sub1_Punishment vs. Reward: \",Sub1_Punishment_vs_Reward)\n",
    "\n",
    "print(\"Sub 2 Podcast vs. Punishment: \", Sub2_Podcast_vs_Punishment,\n",
    "'\\n',\"Sub 2 Podcast vs. Reward: \",Sub2_Podcast_vs_Reward,'\\n',\n",
    "\"Sub2_Punishment vs. Reward: \",Sub2_Punishment_vs_Reward)\n",
    "\n",
    "print(\"Sub 3 Podcast vs. Punishment: \", Sub3_Podcast_vs_Punishment,\n",
    "'\\n',\"Sub 3 Podcast vs. Reward: \",Sub3_Podcast_vs_Reward,'\\n',\n",
    "\"Sub3_Punishment vs. Reward: \",Sub3_Punishment_vs_Reward)\n"
   ]
  }
 ],
 "metadata": {
  "kernelspec": {
   "display_name": "Python 3.10.5 ('mne')",
   "language": "python",
   "name": "python3"
  },
  "language_info": {
   "codemirror_mode": {
    "name": "ipython",
    "version": 3
   },
   "file_extension": ".py",
   "mimetype": "text/x-python",
   "name": "python",
   "nbconvert_exporter": "python",
   "pygments_lexer": "ipython3",
   "version": "3.10.8"
  },
  "orig_nbformat": 4,
  "vscode": {
   "interpreter": {
    "hash": "f2d835a7d4f8c542384a93720007e001a1c31cc4c9a593d6e2eb89c4bed49117"
   }
  }
 },
 "nbformat": 4,
 "nbformat_minor": 2
}
